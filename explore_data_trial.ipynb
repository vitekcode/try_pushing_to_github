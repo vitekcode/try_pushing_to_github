{
 "cells": [
  {
   "cell_type": "code",
   "execution_count": 1,
   "metadata": {},
   "outputs": [],
   "source": [
    "from pathlib import Path\n",
    "import os\n",
    "import glob\n",
    "\n",
    "import pandas as pd\n",
    "import numpy as np\n",
    "\n",
    "import re\n",
    "\n",
    "import ipywidgets as widgets\n",
    "from ipywidgets import interact, interact_manual, interactive, interactive_output\n",
    "\n",
    "import seaborn as sns\n",
    "import matplotlib.pyplot as plt\n",
    "\n",
    "from sklearn import preprocessing"
   ]
  },
  {
   "cell_type": "code",
   "execution_count": 2,
   "metadata": {},
   "outputs": [],
   "source": [
    "def search_word(string, word):\n",
    "    \"\"\"Funtion to search for a word (separated by spaces) in a string\n",
    "            [! case sensitive]\"\"\"\n",
    "    return f' {word} ' in f' {string} '\n",
    "\n",
    "\n",
    "def idx_of_found_item(data, word:str):\n",
    "    \"\"\" Return the corresponding index for a str in an 'array' which contains the 'word'\n",
    "    Input: \n",
    "        data - array of strings\n",
    "        word - sequence which you are looking for (the function will look for a sequence separated by spaces)\n",
    "        (it is case sensitive)\n",
    "    Output: \n",
    "        stored_idx - if only one match was found the index will be stored\n",
    "    \"\"\"\n",
    "    stored_idx = []\n",
    "    for idx, string in enumerate(data.values):\n",
    "        if search_word(string, word):\n",
    "            stored_idx.append(data.index[idx])\n",
    "    #         print(fst_col.index[idx])\n",
    "        elif idx == data.size-1 and len(stored_idx)<1:\n",
    "            stored_idx = ['Sequence not found']\n",
    "        elif idx == data.size-1 and len(stored_idx)>1:\n",
    "            stored_idx = ['Be more specific. Many similar sequences found.']\n",
    "    return stored_idx[0]"
   ]
  },
  {
   "cell_type": "code",
   "execution_count": 3,
   "metadata": {},
   "outputs": [
    {
     "name": "stdout",
     "output_type": "stream",
     "text": [
      "['OrganicChemicals.xlsx']\n"
     ]
    }
   ],
   "source": [
    "# Explore the directory to find excel files\n",
    "\n",
    "currentDir = Path().absolute() # full path to this code\n",
    "filelevel = 0 # specify Nº of 'levels up' to find the excel file folder\n",
    "\n",
    "parts_of_currentDir = currentDir.parts\n",
    "ExcelFileDir = Path(*parts_of_currentDir[:filelevel])\n",
    "\n",
    "path = currentDir # or any other path of interest\n",
    "\n",
    "extension = 'xlsx'\n",
    "os.chdir(path)\n",
    "files_list = glob.glob('*.{}'.format(extension))\n",
    "print(files_list)"
   ]
  },
  {
   "cell_type": "code",
   "execution_count": 4,
   "metadata": {},
   "outputs": [],
   "source": [
    "# Process raw data\n",
    "\n",
    "wkb_names = list(map(lambda st: str.replace(st, '.xlsx', ''), files_list)) # names of the workbooks, to be stored as well\n",
    "\n",
    "appended_workbooks = []\n",
    "\n",
    "for idx_file, file in enumerate(files_list):\n",
    "    \n",
    "    # Read a workbook\n",
    "    ExcelFilePath = ExcelFileDir / file\n",
    "    xl = pd.ExcelFile(ExcelFilePath)\n",
    "    df = pd.read_excel(xl, sheet_name=None)  # read every sheet of the workbook\n",
    "    \n",
    "    lcia_methods_labels = []\n",
    "    products_per_sheet = []\n",
    "    appended_data = []\n",
    "    \n",
    "    for key in df.keys():\n",
    "        # Read raw data from the sheet\n",
    "        df_per_sheet = df.get(key)\n",
    "        \n",
    "        # There is one LCIA method per sheet of data, identify and store it.   \n",
    "        idx_method = idx_of_found_item(df_per_sheet.iloc[:,0], 'Method:')  # find the index of the 0-th column where \"keyword\" appears\n",
    "        name_method = df_per_sheet.iloc[idx_method,1] # the name of the method is in [idx_method, 1-st column], store it\n",
    "        lcia_methods_labels.append(name_method)\n",
    "        \n",
    "        # Identify the number of products per sheet. They should be the same...\n",
    "        # Products are numerated sequentially. Last product is in the cell previous to keyword \"Method:\"\n",
    "        num_products = int(re.search(r'\\d+', df_per_sheet.iloc[idx_method-1,0]).group()) # extract the digits only\n",
    "        products_per_sheet.append(num_products)\n",
    "        \n",
    "        # In every sheet, identify the row where the relevant data starts\n",
    "        # Drop all the rows before the specified one\n",
    "        # Store the data range of interest   \n",
    "        idx_category = idx_of_found_item(df_per_sheet.iloc[:,0], 'category') # find the index of the 0-th column where \"keyword\" appears\n",
    "        name_category = df_per_sheet.iloc[idx_category,0] # store the name of the cell [idx_category,0-th column]\n",
    "        \n",
    "        new_df = df_per_sheet.drop(range(idx_category), axis=0)\n",
    "        new_df.columns = new_df.iloc[0]\n",
    "        new_df.drop(new_df.index[0], inplace=True)\n",
    "\n",
    "        new_df.insert(0,column='Method', value=name_method, allow_duplicates=False) # add method name to df\n",
    "        \n",
    "        new_df.rename(columns={name_category:'Impact (or Damage) category'}, inplace=True) # rename \"category\" column\n",
    "        appended_data.append(new_df)\n",
    "    df_raw_workbook = pd.concat(appended_data, ignore_index=True)\n",
    "    \n",
    "    # Make a df with multiindex\n",
    "    mltindex = pd.MultiIndex.from_arrays([df_raw_workbook.iloc[:,0],df_raw_workbook.iloc[:,1]])\n",
    "    df_raw_workbook.set_index(mltindex, inplace=True)\n",
    "    df_raw_workbook.drop(list(df_raw_workbook.index.names),axis=1, inplace=True)\n",
    "    \n",
    "    df_raw_workbook = df_raw_workbook.T\n",
    "\n",
    "# ------------ IF MULTIINDICES REQUIRED UN-COMMENT THE ROWS BELOW ------------    \n",
    "#     appended_workbooks.append(df_raw_workbook)\n",
    "# df_raw = pd.concat(appended_workbooks, keys=wkb_names, names=['Workbook','Market'], ignore_index=False) # creates a multiindex\n",
    "\n",
    "# # Store df of untis of LCIA methods\n",
    "# df_units = df_raw.xs('Unit', level=1, axis=0, drop_level=False).iloc[0] # if there are multiindices in the df\n",
    "# # df_units = df_units_1.drop_duplicates(inplace=False)\n",
    "\n",
    "# df_raw.drop(labels='Unit', axis=0, level=1, inplace=True) # if there are multiindices in the df\n",
    "# ------------ UN-COMMENT UP TO THE ROW ABOVE ------------\n",
    "\n",
    "# ===============================================================================================\n",
    "\n",
    "# ------------ IF SIMPLE INDICES REQUIRED UN-COMMENT THE ROWS BELOW ------------    \n",
    "    df_raw_workbook.insert(0, column=('Workbook','(blank)'), value=wkb_names[idx_file], allow_duplicates=False) # insert a column w/ name of workbook\n",
    "    \n",
    "    appended_workbooks.append(df_raw_workbook)\n",
    "df_raw = pd.concat(appended_workbooks, keys=None, names=['Market'], ignore_index=False) # w/o multiindex\n",
    "\n",
    "# Store df of untis of LCIA methods\n",
    "df_units = df_raw.xs('Unit', level=None, axis=0, drop_level=False).iloc[0] # w/o multiindices\n",
    "\n",
    "df_raw.drop(labels='Unit', axis=0, level=None, inplace=True) # w/o multiindices\n",
    "# ------------ UN-COMMENT UP TO THE ROW ABOVE ------------ \n",
    "\n",
    "# Transform the data to numeric values (where possible) NEEDED??\n",
    "# df_raw = pd.to_numeric(df_raw, )\n",
    "\n",
    "    \n",
    "# lcia_methods_labels    \n",
    "# products_per_sheet  \n",
    "# df_raw.head(3)"
   ]
  },
  {
   "cell_type": "code",
   "execution_count": 5,
   "metadata": {},
   "outputs": [],
   "source": [
    "df_raw_temp2 = df_raw.iloc[:,1:] # remove the column with categorical data\n",
    "\n",
    "# Normalized data with respect to max and min in each column\n",
    "min_max_scaler = preprocessing.MinMaxScaler()\n",
    "x_scaled = min_max_scaler.fit_transform(df_raw_temp2.values)\n",
    "df_norm_temp = pd.DataFrame(x_scaled, index=df_raw_temp2.index, columns=df_raw_temp2.columns)\n",
    "\n",
    "# include the column with categorical data\n",
    "df_norm = pd.concat([df_raw.iloc[:,0],df_norm_temp], axis=1)\n",
    "# df_norm.head(3)"
   ]
  },
  {
   "cell_type": "code",
   "execution_count": 6,
   "metadata": {},
   "outputs": [],
   "source": [
    "# def plot_histogram ()\n",
    "# df_raw.plot.hist(by=df_raw.columns[1], legend=True)\n"
   ]
  },
  {
   "cell_type": "code",
   "execution_count": 15,
   "metadata": {},
   "outputs": [
    {
     "data": {
      "application/vnd.jupyter.widget-view+json": {
       "model_id": "939a448680ca4b8baa8f5eb576a9f2b4",
       "version_major": 2,
       "version_minor": 0
      },
      "text/plain": [
       "Label(value='Select LCIA method and category:')"
      ]
     },
     "metadata": {},
     "output_type": "display_data"
    },
    {
     "data": {
      "application/vnd.jupyter.widget-view+json": {
       "model_id": "282c4692c6e34ef8a1754c31a2279d26",
       "version_major": 2,
       "version_minor": 0
      },
      "text/plain": [
       "HBox(children=(Select(description='LCIA method:', layout=Layout(height='130px', width='100%'), options=('ReCiP…"
      ]
     },
     "metadata": {},
     "output_type": "display_data"
    },
    {
     "data": {
      "application/vnd.jupyter.widget-view+json": {
       "model_id": "e39dc3f5ca0b4acb83774b84a3fb7115",
       "version_major": 2,
       "version_minor": 0
      },
      "text/plain": [
       "HBox(children=(Output(), Output()))"
      ]
     },
     "metadata": {},
     "output_type": "display_data"
    }
   ],
   "source": [
    "# Widgets\n",
    "style = {'description_width': 'initial'}\n",
    "\n",
    "# TEMPORALLY SET BY HAND\n",
    "df_data = df_raw\n",
    "# df_data = df_norm\n",
    "\n",
    "# Make dictionary from multiindexed columns\n",
    "cols_dict = {}\n",
    "for i in df_data.columns.values.tolist():\n",
    "    cols_dict.setdefault(i[0],[]).append(i[1])\n",
    "\n",
    "LCIA_method = widgets.Select(description='LCIA method:',\n",
    "                             style=style,\n",
    "                             value=list(cols_dict.keys())[1],\n",
    "                             options=list(cols_dict.keys())[1:],\n",
    "                             layout=widgets.Layout(height='130px', width='100%') #,display='inline-flex',flex_flow='row wrap')\n",
    "                            )\n",
    "\n",
    "selected_method = LCIA_method.value\n",
    "\n",
    "LCIA_category = widgets.Dropdown(description='Method category:',\n",
    "                                 style=style,\n",
    "                                 options=cols_dict[selected_method],\n",
    "                                 layout=widgets.Layout(width='100%', display='inline-flex') #,flex_flow='row wrap')\n",
    "                                )\n",
    "\n",
    "# Make third widget depend on the second\n",
    "def update_categories(*args):\n",
    "    LCIA_category.options = cols_dict[LCIA_method.value]\n",
    "\n",
    "LCIA_method.observe(update_categories, names='value')\n",
    "\n",
    "# Function to plot histogram and KDE\n",
    "def plot_histogram(method, category):\n",
    "    fig = plt.figure(figsize=(8,4))\n",
    "    \n",
    "    # define the axis\n",
    "    left, width = 0.1, 0.8\n",
    "    bottom, height = 0.1, 0.9\n",
    "\n",
    "    rect_hist = [left, bottom, width, height]\n",
    "\n",
    "    ax_hist = plt.axes(rect_hist)\n",
    "       \n",
    "    ax_hist.hist(df_data[method][category], \n",
    "            bins=70, \n",
    "            density=False, \n",
    "            histtype='bar', # 'stepfilled'# 'step'\n",
    "            )\n",
    "    ax_hist.set_xlabel(category)\n",
    "    ax_hist.set_ylabel('Frequency')\n",
    "      \n",
    "# Print statistical info about the data in the columns    \n",
    "def stat_data(method, category):\n",
    "    print('')\n",
    "    print('Statistic data:')\n",
    "    print(df_data[method][category].describe())\n",
    "    \n",
    "# Display\n",
    "label_1 = widgets.Label(value='Select LCIA method and category:')\n",
    "ui = widgets.HBox([LCIA_method, LCIA_category])\n",
    "out_plot = interactive_output(plot_histogram, {'method': LCIA_method, 'category': LCIA_category})\n",
    "out_stat = interactive_output(stat_data, {'method': LCIA_method, 'category': LCIA_category})\n",
    "\n",
    "ui_2 = widgets.HBox([out_plot, out_stat])\n",
    "\n",
    "display(label_1)\n",
    "display(ui) \n",
    "display(ui_2)"
   ]
  },
  {
   "cell_type": "code",
   "execution_count": 19,
   "metadata": {},
   "outputs": [],
   "source": [
    "def create_axes(title, figsize=(14,5)):\n",
    "    fig = plt.figure(figsize=figsize)\n",
    "#     fig = plt.figure(constrained_layout=True, figsize=figsize) # active when interavtie plotting will be available\n",
    "    fig.suptitle(title)\n",
    "#     fig.canvas.toolbar_position = 'top'   # disabled because %matplotlib widget needs a fix, check in the import section\n",
    "\n",
    "    # define the axis for the first plot\n",
    "    left, width = 0.1, 0.3\n",
    "    bottom, height = 0.1, 0.65\n",
    "    bottom_h = height + 0.15\n",
    "    left_h = left + width + 0.02\n",
    "\n",
    "    rect_scatter = [left, bottom, width, height]\n",
    "    rect_histx = [left, bottom_h, width, 0.1]\n",
    "    rect_histy = [left_h, bottom, 0.05, height]\n",
    "\n",
    "    ax_scatter = plt.axes(rect_scatter)\n",
    "    ax_histx = plt.axes(rect_histx)\n",
    "    ax_histy = plt.axes(rect_histy)\n",
    "\n",
    "    # define the axis for the zoomed-in plot\n",
    "    left = width + left + 0.2\n",
    "    left_h = left + width + 0.02\n",
    "\n",
    "    rect_scatter = [left, bottom, width, height]\n",
    "    rect_histx = [left, bottom_h, width, 0.1]\n",
    "    rect_histy = [left_h, bottom, 0.05, height]\n",
    "\n",
    "    ax_scatter_zoom = plt.axes(rect_scatter)\n",
    "    ax_histx_zoom = plt.axes(rect_histx)\n",
    "    ax_histy_zoom = plt.axes(rect_histy)\n",
    "\n",
    "#     # define the axis for the colorbar\n",
    "#     left, width = width + left + 0.13, 0.01\n",
    "\n",
    "#     rect_colorbar = [left, bottom, width, height]\n",
    "#     ax_colorbar = plt.axes(rect_colorbar)\n",
    "\n",
    "    return ((ax_scatter, ax_histy, ax_histx),\n",
    "            (ax_scatter_zoom, ax_histy_zoom, ax_histx_zoom),\n",
    "#             ax_colorbar\n",
    "           )\n",
    "\n",
    "\n",
    "def plot_distribution(axes, X, Y, hist_nbins=50, title=\"\",\n",
    "                      x0_label=\"\", x1_label=\"\"):\n",
    "    ax, hist_X1, hist_X0 = axes\n",
    "\n",
    "    ax.set_title(title)\n",
    "    ax.set_xlabel(x0_label)\n",
    "    ax.set_ylabel(x1_label)\n",
    "\n",
    "    # The scatter plot\n",
    "#     colors = cmap(y)\n",
    "    ax.scatter(X, Y, alpha=0.5, marker='o', s=5, lw=0, c='red') #, c=colors)\n",
    "\n",
    "    # Removing the top and the right spine for aesthetics\n",
    "    # make nice axis layout\n",
    "    ax.spines['top'].set_visible(False)\n",
    "    ax.spines['right'].set_visible(False)\n",
    "    ax.get_xaxis().tick_bottom()\n",
    "    ax.get_yaxis().tick_left()\n",
    "    ax.spines['left'].set_position(('outward', 10))\n",
    "    ax.spines['bottom'].set_position(('outward', 10))\n",
    "\n",
    "    # Histogram for axis X1\n",
    "    hist_X1.set_ylim(ax.get_ylim())\n",
    "    hist_X1.hist(Y, bins=hist_nbins, orientation='horizontal',\n",
    "                 color='grey', ec='grey')\n",
    "    hist_X1.axis('off')\n",
    "\n",
    "    # Histogram for axis X0\n",
    "    hist_X0.set_xlim(ax.get_xlim())\n",
    "    hist_X0.hist(X, bins=hist_nbins, orientation='vertical',\n",
    "                 color='grey', ec='grey')\n",
    "    hist_X0.axis('off')"
   ]
  },
  {
   "cell_type": "code",
   "execution_count": 20,
   "metadata": {},
   "outputs": [],
   "source": [
    "def make_plot(method_1, category_1, method_2, category_2, percentile=99):\n",
    "    \"\"\"\n",
    "    category_1, category_2 = any category of the LCIA methods\n",
    "    percentile = PErcentile of data to show in \"Zoom-in\" figure (cut off the outliers)\n",
    "    \"\"\"\n",
    "    \n",
    "    X = df_data[method_1][np.array(category_1)]\n",
    "    Y = df_data[method_2][np.array(category_2)]\n",
    "    \n",
    "#     ax_zoom_out, ax_zoom_in, ax_colorbar = create_axes(title)\n",
    "    ax_zoom_out, ax_zoom_in = create_axes(f'{category_1} vs {category_2}')\n",
    "    axarr = (ax_zoom_out, ax_zoom_in)\n",
    "    plot_distribution(axarr[0], X, Y, hist_nbins=200,\n",
    "                      x0_label=category_1,\n",
    "                      x1_label=category_2,\n",
    "                      title=\"Full data\"\n",
    "                     )  \n",
    "        \n",
    "    X_and_Y = np.column_stack((X,Y))\n",
    "    \n",
    "    # zoom-in\n",
    "    zoom_in_percentile_range = (0, percentile)\n",
    "    cutoffs_X0 = np.percentile(X_and_Y[:,0], zoom_in_percentile_range)\n",
    "    cutoffs_X1 = np.percentile(X_and_Y[:,1], zoom_in_percentile_range)\n",
    "\n",
    "    non_outliers_mask = (\n",
    "        np.all(X_and_Y > [cutoffs_X0[0], cutoffs_X1[0]], axis=1) &\n",
    "        np.all(X_and_Y < [cutoffs_X0[1], cutoffs_X1[1]], axis=1))\n",
    "    \n",
    "    \n",
    "    plot_distribution(axarr[1], X[non_outliers_mask], Y[non_outliers_mask],\n",
    "                      hist_nbins=50,\n",
    "                      x0_label=category_1,\n",
    "                      x1_label=category_2,\n",
    "                      title=\"Zoom-in\")"
   ]
  },
  {
   "cell_type": "code",
   "execution_count": 21,
   "metadata": {},
   "outputs": [
    {
     "data": {
      "application/vnd.jupyter.widget-view+json": {
       "model_id": "5a41a7336e424b089bf9bc1242396739",
       "version_major": 2,
       "version_minor": 0
      },
      "text/plain": [
       "Label(value='Select LCIA methods and categories:')"
      ]
     },
     "metadata": {},
     "output_type": "display_data"
    },
    {
     "data": {
      "application/vnd.jupyter.widget-view+json": {
       "model_id": "56d2e655a38648b692989f03f8b37e3a",
       "version_major": 2,
       "version_minor": 0
      },
      "text/plain": [
       "HBox(children=(Select(description='LCIA method 1:', layout=Layout(height='130px', width='100%'), options=('ReC…"
      ]
     },
     "metadata": {},
     "output_type": "display_data"
    },
    {
     "data": {
      "application/vnd.jupyter.widget-view+json": {
       "model_id": "58f1ce9973a845f680155bd93d99f1db",
       "version_major": 2,
       "version_minor": 0
      },
      "text/plain": [
       "HBox(children=(Select(description='LCIA method 2:', layout=Layout(height='130px', width='100%'), options=('ReC…"
      ]
     },
     "metadata": {},
     "output_type": "display_data"
    },
    {
     "data": {
      "application/vnd.jupyter.widget-view+json": {
       "model_id": "28b2cec0941e4c45b0a515ef37794441",
       "version_major": 2,
       "version_minor": 0
      },
      "text/plain": [
       "IntSlider(value=99, continuous_update=False, description='Percentile:', min=80)"
      ]
     },
     "metadata": {},
     "output_type": "display_data"
    },
    {
     "data": {
      "application/vnd.jupyter.widget-view+json": {
       "model_id": "8e78d747cc4841b2a41d22f8e8d55c18",
       "version_major": 2,
       "version_minor": 0
      },
      "text/plain": [
       "Output()"
      ]
     },
     "metadata": {},
     "output_type": "display_data"
    }
   ],
   "source": [
    "# Widgets\n",
    "style = {'description_width': 'initial'}\n",
    "\n",
    "# Make dictionary from multiindexed columns\n",
    "cols_dict = {}\n",
    "for i in df_data.columns.values.tolist():\n",
    "    cols_dict.setdefault(i[0],[]).append(i[1])\n",
    "\n",
    "    \n",
    "# -----------------------------------------\n",
    "LCIA_method_3 = widgets.Select(description='LCIA method 1:',\n",
    "                             style=style,\n",
    "                             value=list(cols_dict.keys())[1],\n",
    "                             options=list(cols_dict.keys())[1:],\n",
    "                             layout=widgets.Layout(height='130px', width='100%') #,display='inline-flex',flex_flow='row wrap')\n",
    "                            )\n",
    "\n",
    "selected_method_3 = LCIA_method_3.value\n",
    "\n",
    "LCIA_category_3 = widgets.Dropdown(description='Method category(ies):',\n",
    "                                 style=style,\n",
    "                                 options=cols_dict[selected_method_3],\n",
    "                                 layout=widgets.Layout(width='100%', display='inline-flex') #,flex_flow='row wrap')\n",
    "                                )\n",
    "\n",
    "# Make third widget depend on the second\n",
    "def update_categories_3(*args):\n",
    "    LCIA_category_3.options = cols_dict[LCIA_method_3.value]\n",
    "\n",
    "LCIA_method_3.observe(update_categories_3, names='value')\n",
    "\n",
    "# -----------------------------------------\n",
    "LCIA_method_4 = widgets.Select(description='LCIA method 2:',\n",
    "                             style=style,\n",
    "                             value=list(cols_dict.keys())[1],\n",
    "                             options=list(cols_dict.keys())[1:],\n",
    "                             layout=widgets.Layout(height='130px', width='100%') #,display='inline-flex',flex_flow='row wrap')\n",
    "                            )\n",
    "\n",
    "selected_method_4 = LCIA_method_4.value\n",
    "\n",
    "LCIA_category_4 = widgets.Dropdown(description='Method category(ies):',\n",
    "                                 style=style,\n",
    "                                 options=cols_dict[selected_method_4],\n",
    "                                 layout=widgets.Layout(width='100%', display='inline-flex') #,flex_flow='row wrap')\n",
    "                                )\n",
    "\n",
    "# Make third widget depend on the second\n",
    "def update_categories_4(*args):\n",
    "    LCIA_category_4.options = cols_dict[LCIA_method_4.value]\n",
    "\n",
    "LCIA_method_4.observe(update_categories_4, names='value')\n",
    "\n",
    "# -----------------------------------------\n",
    "\n",
    "slider = widgets.IntSlider(description='Percentile:', \n",
    "                          value=99,\n",
    "                          min=80, max=100, step=1,\n",
    "                          continuous_update=False)\n",
    "\n",
    "\n",
    "# Display\n",
    "label_3 = widgets.Label(value='Select LCIA methods and categories:')\n",
    "ui_3 = widgets.HBox([LCIA_method_3, LCIA_category_3])\n",
    "ui_4 = widgets.HBox([LCIA_method_4, LCIA_category_4])\n",
    "\n",
    "out_plot = interactive_output(make_plot, {'method_1': LCIA_method_3,\n",
    "                                          'category_1': LCIA_category_3,\n",
    "                                          'method_2': LCIA_method_4,\n",
    "                                          'category_2': LCIA_category_4,\n",
    "                                          'percentile': slider\n",
    "                                         })\n",
    "\n",
    "display(label_3)\n",
    "display(ui_3)\n",
    "display(ui_4)\n",
    "display(slider)\n",
    "display(out_plot)"
   ]
  },
  {
   "cell_type": "code",
   "execution_count": null,
   "metadata": {},
   "outputs": [],
   "source": []
  },
  {
   "cell_type": "code",
   "execution_count": null,
   "metadata": {},
   "outputs": [],
   "source": []
  }
 ],
 "metadata": {
  "kernelspec": {
   "display_name": "Python 3",
   "language": "python",
   "name": "python3"
  },
  "language_info": {
   "codemirror_mode": {
    "name": "ipython",
    "version": 3
   },
   "file_extension": ".py",
   "mimetype": "text/x-python",
   "name": "python",
   "nbconvert_exporter": "python",
   "pygments_lexer": "ipython3",
   "version": "3.7.9"
  }
 },
 "nbformat": 4,
 "nbformat_minor": 4
}
